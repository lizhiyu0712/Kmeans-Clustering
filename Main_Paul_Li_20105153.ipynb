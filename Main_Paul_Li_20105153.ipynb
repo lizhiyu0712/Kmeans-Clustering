{
 "cells": [
  {
   "cell_type": "markdown",
   "id": "20391f4e",
   "metadata": {},
   "source": [
    "# Lab2 "
   ]
  },
  {
   "cell_type": "markdown",
   "id": "ebb751dc",
   "metadata": {},
   "source": [
    "## import all the needed functions"
   ]
  },
  {
   "cell_type": "code",
   "execution_count": 9,
   "id": "55eb36b2",
   "metadata": {},
   "outputs": [],
   "source": [
    "import cv2 as cv\n",
    "import random\n",
    "import numpy as np\n",
    "import sklearn as sk\n",
    "import math\n",
    "from matplotlib import pyplot as plt"
   ]
  },
  {
   "cell_type": "markdown",
   "id": "779c257c",
   "metadata": {},
   "source": [
    "## Import images "
   ]
  },
  {
   "cell_type": "code",
   "execution_count": 10,
   "id": "060d5dd7",
   "metadata": {},
   "outputs": [],
   "source": [
    "# change to baboon image:\n",
    "\n",
    "# image_name = \"baboon.jpg\"\n",
    "# image = cv.imread(image_name)\n",
    "image_name = \"SAFlag.jpg\"\n",
    "image = cv.imread(image_name)"
   ]
  },
  {
   "cell_type": "markdown",
   "id": "3b16ecdd",
   "metadata": {},
   "source": [
    "## make the global callback function"
   ]
  },
  {
   "cell_type": "code",
   "execution_count": 11,
   "id": "ec3d3a9d",
   "metadata": {},
   "outputs": [],
   "source": [
    "def call_back(*args):\n",
    "    global k_value, lock, image_name,windowName\n",
    "    k_value = cv.getTrackbarPos(\"K value\", \"Pic1\")"
   ]
  },
  {
   "cell_type": "markdown",
   "id": "a8b4079c",
   "metadata": {},
   "source": [
    "## function to calculate the difference"
   ]
  },
  {
   "cell_type": "code",
   "execution_count": 12,
   "id": "a0759bcd",
   "metadata": {},
   "outputs": [],
   "source": [
    "def diff(x, y):      \n",
    "    return math.sqrt(math.pow(int(x)-int(y), 2))\n",
    "\n",
    "\n",
    "def color_diff(i, j):\n",
    "        temp = diff(i[0], j[0])+diff(i[1], j[1])+diff(i[2], j[2])  \n",
    "        return temp"
   ]
  },
  {
   "cell_type": "markdown",
   "id": "2f034c5b",
   "metadata": {},
   "source": [
    "## Random Center Initialization based on the number of clusters "
   ]
  },
  {
   "cell_type": "code",
   "execution_count": 13,
   "id": "bc855f6d",
   "metadata": {},
   "outputs": [],
   "source": [
    "def random_center(k_value):\n",
    "    seeds = []\n",
    "    for j in range(k_value):\n",
    "        seeds.append([[random.randint(0,image.shape[0]-1),random.randint(0,image.shape[1]-1)]])\n",
    "        seeds[j].append(image[seeds[j][0][0]][seeds[j][0][1]].copy())\n",
    "    return seeds"
   ]
  },
  {
   "cell_type": "markdown",
   "id": "c13fd63b",
   "metadata": {},
   "source": [
    "## Voronoi Region Segmentation based on the set of cluster centers"
   ]
  },
  {
   "cell_type": "code",
   "execution_count": 14,
   "id": "6177d217",
   "metadata": {},
   "outputs": [],
   "source": [
    "def voronoi_region_segmentation(seeds,image,threshold, k_value, upper_bound,lock):\n",
    "    \n",
    "    lock = True\n",
    "    image_size = [image.shape[0],image.shape[1]]\n",
    "    cluster = np.zeros((image_size[0],image_size[1]))\n",
    "    go = True\n",
    "\n",
    "    number_of_round = 0\n",
    "\n",
    "    while go and number_of_round < upper_bound:\n",
    "        print(\"Start round \", number_of_round + 1, \"\\n\")\n",
    "        number_of_round += 1\n",
    "\n",
    "        go = False\n",
    "        for x in range(image_size[0]):\n",
    "            for y in range(image_size[1]):\n",
    "                lower_bound = 100000\n",
    "                min_value = 0\n",
    "                for i in range(k_value):\n",
    "                    temp = color_diff(seeds[i][1], image[x][y])\n",
    "                    if temp < lower_bound  and diff(temp, lower_bound) > threshold :\n",
    "                        lower_bound = temp\n",
    "                        min_value = i\n",
    "                cluster[x,y] = min_value\n",
    "        \n",
    "        mean = []\n",
    "        for j in range(k_value):\n",
    "            position = np.nonzero(cluster[:,:] == j)\n",
    "            cluster_value = image[position]\n",
    "            mean.append(np.mean(cluster_value, axis=0))\n",
    "        for i in range(k_value):\n",
    "            if  color_diff(seeds[i][1], mean[i]):\n",
    "                go = True\n",
    "            seeds[i][1] = mean[i]\n",
    "    BGR(seeds,cluster,image,image_size)"
   ]
  },
  {
   "cell_type": "markdown",
   "id": "cb97395d",
   "metadata": {},
   "source": [
    "## KMeans which calls Voronoi Region Segmentation"
   ]
  },
  {
   "cell_type": "code",
   "execution_count": 15,
   "id": "aae7c2c5",
   "metadata": {},
   "outputs": [],
   "source": [
    "def kMeans(image,lock,image_name):\n",
    "    if lock == True:\n",
    "        Print(\"On going calculation, please wait\")\n",
    "        return \n",
    "    k_value = cv.getTrackbarPos(\"k Value\", \"Pic1\")\n",
    "    seeds = random_center(k_value)\n",
    "    threshold = 5\n",
    "    upper_bound = 10\n",
    "    print(\"Start with k value of \",k_value, \"on Image \",image_name,\"\\n\")\n",
    "    voronoi_region_segmentation(seeds, image, threshold, k_value, upper_bound,lock)\n",
    "\n",
    "def BGR(seeds, cluster, image, image_size):\n",
    "    for x in range(image_size[0]):\n",
    "        for y in range(image_size[1]):\n",
    "            idx = int(cluster[x,y])\n",
    "            image[x,y] = seeds[idx][1] \n",
    "    cv.imshow(windowName, image)\n",
    "    print(10*'!','finished',10*'!')\n",
    "    lock = False"
   ]
  },
  {
   "cell_type": "markdown",
   "id": "b1c86c5a",
   "metadata": {},
   "source": [
    "## Main Function"
   ]
  },
  {
   "cell_type": "code",
   "execution_count": 16,
   "id": "3c4d63a8",
   "metadata": {},
   "outputs": [
    {
     "name": "stdout",
     "output_type": "stream",
     "text": [
      "After pick a K value, Press Enter to Start\n",
      "\n",
      "\n",
      " ====================\n",
      "Start with k value of  6 on Image  SAFlag.jpg \n",
      "\n",
      "Start round  1 \n",
      "\n",
      "Start round  2 \n",
      "\n",
      "Start round  3 \n",
      "\n",
      "Start round  4 \n",
      "\n",
      "Start round  5 \n",
      "\n",
      "Start round  6 \n",
      "\n",
      "Start round  7 \n",
      "\n",
      "Start round  8 \n",
      "\n",
      "Start round  9 \n",
      "\n",
      "Start round  10 \n",
      "\n",
      "!!!!!!!!!! finished !!!!!!!!!!\n"
     ]
    }
   ],
   "source": [
    "k_value = 0\n",
    "windowName = 'Pic1'\n",
    "cv.namedWindow(windowName, cv.WINDOW_NORMAL)\n",
    "cv.resizeWindow(windowName, image.shape[1], image.shape[0])\n",
    "\n",
    "cv.createTrackbar(\"k Value\", windowName, 0, 30, call_back)\n",
    "lock = False\n",
    "print(\"After pick a K value, Press Enter to Start\\n\\n\\n\",20*'=')\n",
    "cv.imshow(windowName, image)\n",
    "while True:\n",
    "    #cv.imshow(\"baboon.jpg\", image)\n",
    "\n",
    "    key=cv.waitKey(1)\n",
    "    if key==27:\n",
    "        break\n",
    "    if key==13:    #press enter to start \n",
    "        kMeans(image,lock,image_name)\n",
    "cv.destroyAllWindows()"
   ]
  },
  {
   "cell_type": "code",
   "execution_count": null,
   "id": "72dd95e1",
   "metadata": {},
   "outputs": [],
   "source": []
  },
  {
   "cell_type": "code",
   "execution_count": null,
   "id": "8e5aa12a",
   "metadata": {},
   "outputs": [],
   "source": []
  }
 ],
 "metadata": {
  "kernelspec": {
   "display_name": "Python 3",
   "language": "python",
   "name": "python3"
  },
  "language_info": {
   "codemirror_mode": {
    "name": "ipython",
    "version": 3
   },
   "file_extension": ".py",
   "mimetype": "text/x-python",
   "name": "python",
   "nbconvert_exporter": "python",
   "pygments_lexer": "ipython3",
   "version": "3.8.8"
  }
 },
 "nbformat": 4,
 "nbformat_minor": 5
}
